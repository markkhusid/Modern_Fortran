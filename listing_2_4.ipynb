{
 "cells": [
  {
   "cell_type": "code",
   "execution_count": 2,
   "id": "a96cabd0-4344-4fde-9906-28467fc7dded",
   "metadata": {},
   "outputs": [
    {
     "name": "stderr",
     "output_type": "stream",
     "text": [
      "/home/ubuntu/Engineering/Programming/Fortran/Modern_Fortran/temp/tmpiqc9oif0.f90:4:16:\n",
      "\n",
      "     integer :: i, n\n",
      "                1\n",
      "Warning: Unused variable ‘i’ declared at (1) [-Wunused-variable]\n",
      "/home/ubuntu/Engineering/Programming/Fortran/Modern_Fortran/temp/tmpiqc9oif0.f90:4:19:\n",
      "\n",
      "     integer :: i, n\n",
      "                   1\n",
      "Warning: Unused variable ‘n’ declared at (1) [-Wunused-variable]\n"
     ]
    }
   ],
   "source": [
    "program tsunami\n",
    "\n",
    "    implicit none\n",
    "    integer :: i, n\n",
    "    integer :: grid_size\n",
    "    integer :: num_time_steps\n",
    "\n",
    "    real :: dt ! time step [s]\n",
    "    real :: dx ! grid spacing [m]\n",
    "    real :: c  ! phase speed [m/s]\n",
    "\n",
    "    grid_size = 100\n",
    "    num_time_steps = 100\n",
    "    dt = 1.\n",
    "    dx = 1.\n",
    "    c=1.\n",
    "\n",
    "end program tsunami"
   ]
  },
  {
   "cell_type": "code",
   "execution_count": null,
   "id": "ca0c812c-f365-4356-a2ca-cd8a65b554a3",
   "metadata": {},
   "outputs": [],
   "source": []
  }
 ],
 "metadata": {
  "kernelspec": {
   "display_name": "gfortran",
   "language": "Fortran",
   "name": "gfort_spec"
  },
  "language_info": {
   "file_extension": "f90",
   "mimetype": "text/plain",
   "name": "fortran"
  }
 },
 "nbformat": 4,
 "nbformat_minor": 5
}
