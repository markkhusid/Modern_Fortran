{
 "cells": [
  {
   "cell_type": "code",
   "execution_count": 2,
   "id": "d58fe370-8290-4084-babd-fca9312fdbfc",
   "metadata": {},
   "outputs": [
    {
     "name": "stdout",
     "output_type": "stream",
     "text": [
      " Temperature after    6.00000000      hours is    22.5000000      degrees.\n",
      " Temperature after    12.0000000      hours is    21.0000000      degrees.\n",
      " Temperature after    18.0000000      hours is    19.5000000      degrees.\n",
      " Temperature after    24.0000000      hours is    18.0000000      degrees.\n",
      " Temperature after    30.0000000      hours is    16.5000000      degrees.\n",
      " Temperature after    36.0000000      hours is    15.0000000      degrees.\n",
      " Temperature after    42.0000000      hours is    13.5000000      degrees.\n",
      " Temperature after    48.0000000      hours is    12.0000000      degrees.\n"
     ]
    }
   ],
   "source": [
    "program cold_front\n",
    "\n",
    "    implicit none\n",
    "    integer :: n\n",
    "    real    :: nhours\n",
    "    \n",
    "    do n = 6, 48, 6\n",
    "        nhours = real(n)\n",
    "        print *, \"Temperature after \", &\n",
    "            nhours, \" hours is \", &\n",
    "            cold_front_temperature(12., 24., 20., 960., nhours), \" degrees.\"\n",
    "    end do\n",
    "    \n",
    "contains\n",
    "\n",
    "    real function cold_front_temperature ( &\n",
    "        temp1, temp2, c, dx, dt) result(res)\n",
    "        \n",
    "        real, intent(in) :: temp1, temp2, c, dx, dt\n",
    "        res = temp2 - c * (temp2 - temp1) / dx * dt\n",
    "        \n",
    "    end function cold_front_temperature\n",
    "    \n",
    "end program cold_front"
   ]
  }
 ],
 "metadata": {
  "kernelspec": {
   "display_name": "gfortran",
   "language": "Fortran",
   "name": "gfort_spec"
  },
  "language_info": {
   "file_extension": "f90",
   "mimetype": "text/plain",
   "name": "fortran"
  }
 },
 "nbformat": 4,
 "nbformat_minor": 5
}
