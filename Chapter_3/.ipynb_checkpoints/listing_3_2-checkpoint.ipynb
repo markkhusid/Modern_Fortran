{
 "cells": [
  {
   "cell_type": "code",
   "execution_count": 1,
   "id": "2e50f2b0-edf1-459a-a2f4-72f730407560",
   "metadata": {},
   "outputs": [
    {
     "name": "stdout",
     "output_type": "stream",
     "text": [
      " Temperature after    24.0000000     hours is    18.0000000     degrees\n"
     ]
    }
   ],
   "source": [
    "program cold_front\n",
    "\n",
    "    implicit none\n",
    "    \n",
    "    real :: temp1 = 12 ! degrees C\n",
    "    real :: temp2 = 24 ! degrees C\n",
    "    real :: dx = 960   ! km\n",
    "    real :: c = 20     ! km / hr\n",
    "    real :: dt = 24    ! hours\n",
    "    \n",
    "    real :: res        ! result in degrees C\n",
    "    \n",
    "    res = temp2 - c * (temp2 - temp1) / dx * dt\n",
    "    \n",
    "    print *, \"Temperature after \", dt, &\n",
    "             \"hours is \", res, \"degrees\"\n",
    "             \n",
    "end program cold_front"
   ]
  }
 ],
 "metadata": {
  "kernelspec": {
   "display_name": "gfortran",
   "language": "Fortran",
   "name": "gfort_spec"
  },
  "language_info": {
   "file_extension": "f90",
   "mimetype": "text/plain",
   "name": "fortran"
  }
 },
 "nbformat": 4,
 "nbformat_minor": 5
}
