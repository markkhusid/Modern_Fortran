{
 "cells": [
  {
   "cell_type": "code",
   "execution_count": 1,
   "id": "d86727fb-1346-4c6c-aa64-8ddb3966fa53",
   "metadata": {
    "scrolled": true,
    "tags": []
   },
   "outputs": [],
   "source": [
    "program tsunami\n",
    "\n",
    "    implicit none\n",
    "    \n",
    "    integer :: n\n",
    "    \n",
    "    integer, parameter :: grid_size = 100\n",
    "    integer, parameter :: num_time_steps = 100\n",
    "    real,    parameter :: dt = 1, dx = 1, c = 1\n",
    "    \n",
    "    real               :: h(grid_size)\n",
    "    \n",
    "    integer, parameter :: icenter = 25\n",
    "    real, parameter    :: decay = 0.02\n",
    "    \n",
    "    if (grid_size <= 0) stop \"grid_size must be > 0\"\n",
    "    if (dt <= 0) stop \"time step dt must be > 0\"\n",
    "    if (dx <= 0) stop \"grid spacing dx must be > 0\"\n",
    "    if (c <= 0) stop \"background flow speed c must be > 0\"\n",
    "    \n",
    "    call set_gaussian(h, icenter, decay)\n",
    "    \n",
    "    !print *, 0, h\n",
    "    time_loop: do n = 1, num_time_steps\n",
    "        h = h - c * diff(h) / dx * dt\n",
    "        !print *, n, h\n",
    "    end do time_loop\n",
    "\n",
    "contains\n",
    "\n",
    "    pure function diff(x) result(dx)\n",
    "        real, intent(in) :: x(:)\n",
    "        real             :: dx(size(x))\n",
    "        integer          :: im\n",
    "        im = size(x)\n",
    "        dx(1) = x(1) - x(im)\n",
    "        dx(2:im) = x(2:im) - x(1:im-1)\n",
    "    end function diff\n",
    "    \n",
    "    pure subroutine set_gaussian(x, icenter, decay)\n",
    "        real, intent(in out) :: x(:)\n",
    "        integer, intent(in)  :: icenter\n",
    "        real, intent(in)     :: decay\n",
    "        \n",
    "        integer :: i\n",
    "        do concurrent(i = 1:size(x))\n",
    "            x(i) = exp(-decay * (i - icenter)**2)\n",
    "        end do\n",
    "    end subroutine set_gaussian\n",
    "    \n",
    "end program tsunami  "
   ]
  }
 ],
 "metadata": {
  "kernelspec": {
   "display_name": "gfortran",
   "language": "Fortran",
   "name": "gfort_spec"
  },
  "language_info": {
   "file_extension": "f90",
   "mimetype": "text/plain",
   "name": "fortran"
  }
 },
 "nbformat": 4,
 "nbformat_minor": 5
}
