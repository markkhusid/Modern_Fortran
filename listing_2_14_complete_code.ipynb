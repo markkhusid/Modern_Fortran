{
 "cells": [
  {
   "cell_type": "code",
   "execution_count": 12,
   "id": "a96cabd0-4344-4fde-9906-28467fc7dded",
   "metadata": {},
   "outputs": [],
   "source": [
    "program tsunami\n",
    "\n",
    "    implicit none\n",
    "    integer :: i, n\n",
    "    \n",
    "    integer, parameter :: grid_size = 100\n",
    "    integer, parameter :: num_time_steps = 100\n",
    "\n",
    "    real, parameter :: dt = 1 ! time step [s]\n",
    "    real, parameter :: dx = 1 ! grid spacing [m]\n",
    "    real, parameter :: c  = 1 ! phase speed [m/s]\n",
    "\n",
    "    real :: h(grid_size), dh(grid_size)\n",
    "    \n",
    "    integer, parameter :: icenter = 25\n",
    "    real, parameter    :: decay = 0.02\n",
    "    \n",
    "    logical :: file_exists\n",
    "    \n",
    "    open(9, file = 'data.txt')\n",
    "    \n",
    "    if ( grid_size <= 0 ) stop 'grid_size must be > 0'\n",
    "    if ( dt <= 0 ) stop 'time step dt must be > 0'\n",
    "    if ( dx <= 0 ) stop 'grid spacing dx must be > 0'\n",
    "    if ( c <= 0 )  stop 'background flow speed c must be > 0'\n",
    "    \n",
    "    do concurrent (i = 1:grid_size)\n",
    "        h(i) = exp(-decay * (i - icenter)**2)\n",
    "    end do\n",
    "    \n",
    "    !print *, 0, h\n",
    "    write (9, *) 0, h\n",
    "    close(9)\n",
    "    \n",
    "    time_loop: do n=1,num_time_steps    \n",
    "        \n",
    "        dh(1) = h(1) - h(grid_size)\n",
    "        \n",
    "        do concurrent (i = 2:grid_size)\n",
    "            dh(i) = h(i) - h(i-1)       \n",
    "        end do\n",
    "        \n",
    "        do concurrent (i = 1:grid_size)\n",
    "            h(i)=h(i)-c*dh(i) / dx * dt\n",
    "        end do\n",
    "        \n",
    "        !print *, n, h\n",
    "        inquire(file = 'data.txt', exist = file_exists)\n",
    "        if (file_exists) then\n",
    "            open(9, file = 'data.txt', status = 'old', position = 'append', action = 'write')\n",
    "        else\n",
    "            open(9, file = 'data.txt', status = \"new\", action = 'write')\n",
    "        end if\n",
    "        \n",
    "        write (9, *) n, h\n",
    "\n",
    "    end do time_loop\n",
    "\n",
    "    close (9)\n",
    "    \n",
    "end program tsunami"
   ]
  },
  {
   "cell_type": "code",
   "execution_count": 40,
   "id": "ca0c812c-f365-4356-a2ca-cd8a65b554a3",
   "metadata": {},
   "outputs": [
    {
     "name": "stdout",
     "output_type": "stream",
     "text": [
      "data.txt\n",
      "101\n"
     ]
    }
   ],
   "source": []
  },
  {
   "cell_type": "code",
   "execution_count": 20,
   "id": "2a33a0a7-3ea9-4dea-8676-52af89a60290",
   "metadata": {},
   "outputs": [
    {
     "name": "stderr",
     "output_type": "stream",
     "text": [
      "[fortran kernel]name 'input_file' is not defined"
     ]
    }
   ],
   "source": [
    "\n"
   ]
  },
  {
   "cell_type": "code",
   "execution_count": null,
   "id": "1e9bb563-3887-401e-b132-c30036307e9d",
   "metadata": {},
   "outputs": [],
   "source": []
  }
 ],
 "metadata": {
  "kernelspec": {
   "display_name": "gfortran",
   "language": "Fortran",
   "name": "gfort_spec"
  },
  "language_info": {
   "file_extension": "f90",
   "mimetype": "text/plain",
   "name": "fortran"
  }
 },
 "nbformat": 4,
 "nbformat_minor": 5
}
