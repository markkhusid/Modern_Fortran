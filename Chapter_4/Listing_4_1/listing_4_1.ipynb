{
 "cells": [
  {
   "cell_type": "code",
   "execution_count": 1,
   "id": "a2b31b38-d0e0-444d-b541-4876477851e1",
   "metadata": {},
   "outputs": [
    {
     "name": "stdout",
     "output_type": "stream",
     "text": [
      " Compiler version: GCC version 8.4.0\n",
      " Compiler options: -mtune=generic -march=x86-64 -Wall\n"
     ]
    }
   ],
   "source": [
    "program print_compiler_info\n",
    "\n",
    "    use iso_fortran_env\n",
    "    implicit none\n",
    "    print *, 'Compiler version: ', compiler_version()\n",
    "    print *, 'Compiler options: ', compiler_options()\n",
    "    \n",
    "end program print_compiler_info"
   ]
  },
  {
   "cell_type": "code",
   "execution_count": 2,
   "id": "09c02aad-a274-4866-a649-be7ff161d9b1",
   "metadata": {},
   "outputs": [
    {
     "name": "stdout",
     "output_type": "stream",
     "text": [
      " GCC version 9.3.0\n",
      " -mtune=generic -march=x86-64 -Wall -fpre-include=/usr/lib/gcc/x86_64-linux-gnu/9/../../../../x86_64-linux-gnu/include/finclude/math-vector-fortran.h\n"
     ]
    }
   ],
   "source": [
    "%compiler: gfortran\n",
    "use, intrinsic :: iso_fortran_env\n",
    "print *, compiler_version()\n",
    "print *, compiler_options()\n",
    "end"
   ]
  },
  {
   "cell_type": "code",
   "execution_count": null,
   "id": "51228eee-56ed-478c-9587-82c598b789b8",
   "metadata": {},
   "outputs": [],
   "source": []
  }
 ],
 "metadata": {
  "kernelspec": {
   "display_name": "gfortran",
   "language": "Fortran",
   "name": "gfort_spec"
  },
  "language_info": {
   "file_extension": "f90",
   "mimetype": "text/plain",
   "name": "fortran"
  }
 },
 "nbformat": 4,
 "nbformat_minor": 5
}
