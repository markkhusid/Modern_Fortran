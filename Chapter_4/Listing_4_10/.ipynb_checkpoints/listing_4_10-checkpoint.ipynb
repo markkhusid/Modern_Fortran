{
 "cells": [
  {
   "cell_type": "code",
   "execution_count": 1,
   "id": "c3818fc1-3964-4cba-9070-5c09e170b35b",
   "metadata": {},
   "outputs": [
    {
     "name": "stderr",
     "output_type": "stream",
     "text": [
      "[gfort kernel] module objects created successfully: mod_initial.o"
     ]
    }
   ],
   "source": [
    "! %module magic necessary so that jupyter fortran kernel knows that \n",
    "! the code below is to be compiled as a module and not executable code.\n",
    "%module: mod_initial\n",
    "module mod_initial\n",
    "    \n",
    "    private\n",
    "    public :: set_gaussian\n",
    "\n",
    "contains\n",
    "    \n",
    "    pure subroutine set_gaussian(x, icenter, decay)\n",
    "        real, intent(in out) :: x(:)\n",
    "        integer, intent(in)  :: icenter\n",
    "        real, intent(in)     :: decay\n",
    "        \n",
    "        integer :: i\n",
    "    \n",
    "        do concurrent(i = 1:size(x))\n",
    "            x(i) = exp(-decay * (i - icenter)**2)\n",
    "        end do\n",
    "    end subroutine set_gaussian\n",
    "    \n",
    "end module mod_initial"
   ]
  },
  {
   "cell_type": "code",
   "execution_count": 2,
   "id": "8cc3bd09-0c2b-4b3d-9dc2-e19ca4d16c42",
   "metadata": {},
   "outputs": [
    {
     "name": "stderr",
     "output_type": "stream",
     "text": [
      "[gfort kernel] module objects created successfully: mod_diff.o"
     ]
    }
   ],
   "source": [
    "! %module magic necessary so that jupyter fortran kernel knows that \n",
    "! the code below is to be compiled as a module and not executable code.\n",
    "%module: mod_diff \n",
    "module mod_diff\n",
    "\n",
    "    use iso_fortran_env, only: int32, real32\n",
    "    implicit none\n",
    "    \n",
    "    private\n",
    "    public :: diff\n",
    "    \n",
    "contains\n",
    "\n",
    "    pure function diff(x) result(dx)\n",
    "        real(real32), intent(in) :: x(:)\n",
    "        real(real32)             :: dx(size(x))\n",
    "        integer(int32)           :: im\n",
    "        \n",
    "        im = size(x)\n",
    "        dx(1) = x(1) - x(im)\n",
    "        dx(2:im) = x(2:im) - x(1:im - 1)\n",
    "    end function diff\n",
    "    \n",
    "end module mod_diff"
   ]
  },
  {
   "cell_type": "code",
   "execution_count": 3,
   "id": "f1bbbcda-b654-4d8c-a346-24556ca73f3a",
   "metadata": {
    "scrolled": true,
    "tags": []
   },
   "outputs": [],
   "source": [
    "%fcflags: mod_diff.o mod_initial.o\n",
    "program tsunami\n",
    "\n",
    "    use iso_fortran_env, only : int32, real32\n",
    "    use mod_diff, only        : diff\n",
    "    use mod_initial, only     : set_gaussian\n",
    "    \n",
    "    implicit none\n",
    "    \n",
    "    integer(int32) :: n\n",
    "    \n",
    "    integer(int32), parameter :: grid_size = 100\n",
    "    integer(int32), parameter :: num_time_steps = 100\n",
    "    real(real32),   parameter :: dt = 1, dx = 1, c = 1\n",
    "    \n",
    "    real(real32)              :: h(grid_size)\n",
    "    \n",
    "    integer(int32), parameter :: icenter = 25\n",
    "    real(real32), parameter   :: decay = 0.02\n",
    "    \n",
    "    logical :: file_exists\n",
    "    \n",
    "    open(9, file = 'data.txt')\n",
    "    \n",
    "    if (grid_size <= 0) stop 'grid_size must be > 0'\n",
    "    if (dt <= 0) stop 'time step dt must be > 0'\n",
    "    if (dx <= 0) stop 'grid spacing dx must be > 0'\n",
    "    \n",
    "    call set_gaussian(h, icenter, decay)\n",
    "    \n",
    "    !print *, 0, h\n",
    "    write (9, *) 0, h\n",
    "    close(9)\n",
    "    \n",
    "    time_loop: do n = 1, num_time_steps\n",
    "        h = h - c * diff(h) / dx * dt\n",
    "        !print *, n, h\n",
    "        \n",
    "        inquire(file = 'data.txt', exist = file_exists)\n",
    "            if (file_exists) then\n",
    "                open(9, file = 'data.txt', status = 'old', position = 'append', action = 'write')\n",
    "            else\n",
    "                open(9, file = 'data.txt', status = \"new\", action = 'write')\n",
    "            end if\n",
    "        \n",
    "        write (9, *) n, h\n",
    "\n",
    "    end do time_loop\n",
    "        \n",
    "end program tsunami"
   ]
  }
 ],
 "metadata": {
  "kernelspec": {
   "display_name": "gfortran",
   "language": "Fortran",
   "name": "gfort_spec"
  },
  "language_info": {
   "file_extension": "f90",
   "mimetype": "text/plain",
   "name": "fortran"
  }
 },
 "nbformat": 4,
 "nbformat_minor": 5
}
