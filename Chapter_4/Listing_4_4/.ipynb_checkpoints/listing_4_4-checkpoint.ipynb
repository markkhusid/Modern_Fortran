{
 "cells": [
  {
   "cell_type": "code",
   "execution_count": 1,
   "id": "ca176362-bfb4-4906-b98e-1dbd21363315",
   "metadata": {},
   "outputs": [
    {
     "name": "stderr",
     "output_type": "stream",
     "text": [
      "[gfort kernel] module objects created successfully: mod_diff.o"
     ]
    }
   ],
   "source": [
    "! %module magic necessary so that jupyter fortran kernel knows that \n",
    "! the code below is to be compiled as a module and not executable code.\n",
    "%module: mod_diff \n",
    "module mod_diff\n",
    "\n",
    "    use iso_fortran_env, only: int32, real32\n",
    "    implicit none\n",
    "    \n",
    "contains\n",
    "\n",
    "    pure function diff(x) result(dx)\n",
    "        real(real32), intent(in) :: x(:)\n",
    "        real(real32)             :: dx(size(x))\n",
    "        integer(int32)           :: im\n",
    "        \n",
    "        im = size(x)\n",
    "        dx(1) = x(1) - x(im)\n",
    "        dx(2:im) = x(2:im) - x(1:im - 1)\n",
    "    end function diff\n",
    "    \n",
    "end module mod_diff"
   ]
  }
 ],
 "metadata": {
  "kernelspec": {
   "display_name": "gfortran",
   "language": "Fortran",
   "name": "gfort_spec"
  },
  "language_info": {
   "file_extension": "f90",
   "mimetype": "text/plain",
   "name": "fortran"
  }
 },
 "nbformat": 4,
 "nbformat_minor": 5
}
