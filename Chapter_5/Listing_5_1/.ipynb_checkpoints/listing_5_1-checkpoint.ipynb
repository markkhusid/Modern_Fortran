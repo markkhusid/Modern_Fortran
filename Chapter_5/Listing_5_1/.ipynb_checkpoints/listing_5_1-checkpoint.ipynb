{
 "cells": [
  {
   "cell_type": "code",
   "execution_count": 1,
   "id": "a5335d29-f739-4155-bed9-466e5193903a",
   "metadata": {},
   "outputs": [
    {
     "name": "stderr",
     "output_type": "stream",
     "text": [
      "/home/ubuntu/Engineering/Programming/Fortran/Modern_Fortran/Chapter_5/Listing_5_1/temp/tmpi6qxwya_.f90:3:8:\n",
      "\n",
      "     use mod_arrays, only : reverse\n",
      "        1\n",
      "Fatal Error: Can't open module file ‘mod_arrays.mod’ for reading at (1): No such file or directory\n",
      "compilation terminated.\n"
     ]
    },
    {
     "name": "stdout",
     "output_type": "stream",
     "text": [
      "[gfort kernel] fortran exited with code 1, the executable will not be executed"
     ]
    }
   ],
   "source": [
    "program stock_gain\n",
    "\n",
    "    use mod_arrays, only : reverse\n",
    "    use mod_io,     only : read_stock\n",
    "    \n",
    "    implicit none\n",
    "    \n",
    "    character(len=4), allocatable :: symbols(:)\n",
    "    character(len=:), allocatable :: time   (:)\n",
    "    \n",
    "    real, allocatable :: open(:), high(:), low(:), &\n",
    "    close(:), adjclose(:), volume(:)\n",
    "    \n",
    "    integer :: n\n",
    "    real    :: gain\n",
    "    \n",
    "    symbols = ['AAPL', 'AMZN', 'CRAY', 'CSCO', 'HPQ ', &\n",
    "               'IBM ', 'INTC', 'MSFT', 'NVDA', 'ORCL']\n",
    "               \n",
    "    do n = 1, size(symbols)\n",
    "    \n",
    "        call(read_stock, 'data/' // trim(symbols(n)) // '.csv', &\n",
    "        time, open, high, low, close, adjclose, volume)\n",
    "        \n",
    "        adjclose = reverse(adjclose)\n",
    "        gain = (adjclose(size(adjclose)) - adjclose(1))\n",
    "        \n",
    "        if (n == 1) then\n",
    "            print *, &\n",
    "              time(size(time)) // ' through ' // time(1)\n",
    "            print *, 'Symbol, Gain (USD), Relative gain (%)'\n",
    "            print *, '*************************************'\n",
    "        end if\n",
    "        \n",
    "        print *, symbols(n), gain, &\n",
    "          nint(gain / adjclose(1) * 100)\n",
    "          \n",
    "  end do\n",
    "  \n",
    "end program stock_gain"
   ]
  },
  {
   "cell_type": "code",
   "execution_count": null,
   "id": "4bc44673-2d11-457c-a1b0-212c0c1cfda3",
   "metadata": {},
   "outputs": [],
   "source": []
  }
 ],
 "metadata": {
  "kernelspec": {
   "display_name": "gfortran",
   "language": "Fortran",
   "name": "gfort_spec"
  },
  "language_info": {
   "file_extension": "f90",
   "mimetype": "text/plain",
   "name": "fortran"
  }
 },
 "nbformat": 4,
 "nbformat_minor": 5
}
